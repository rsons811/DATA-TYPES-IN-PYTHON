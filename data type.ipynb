{
 "cells": [
  {
   "cell_type": "code",
   "execution_count": 1,
   "id": "9b62bfb4-6669-4dd6-a43f-9732a19aa896",
   "metadata": {},
   "outputs": [
    {
     "name": "stdout",
     "output_type": "stream",
     "text": [
      "hello world\n"
     ]
    }
   ],
   "source": [
    "print(\"hello world\")"
   ]
  },
  {
   "cell_type": "code",
   "execution_count": 3,
   "id": "6c1004d4-19e5-47e5-b762-40789666f8cc",
   "metadata": {},
   "outputs": [
    {
     "name": "stdout",
     "output_type": "stream",
     "text": [
      "my name is rahul rajput\n"
     ]
    }
   ],
   "source": [
    "print(\"my name is rahul rajput\")"
   ]
  },
  {
   "cell_type": "code",
   "execution_count": 6,
   "id": "2bf79f2f-b9bd-494d-8cbc-7697e105fb8c",
   "metadata": {},
   "outputs": [
    {
     "name": "stdout",
     "output_type": "stream",
     "text": [
      "3.12.4 (tags/v3.12.4:8e8a4ba, Jun  6 2024, 19:30:16) [MSC v.1940 64 bit (AMD64)]\n"
     ]
    }
   ],
   "source": [
    "import sys\n",
    "print(sys.version)"
   ]
  },
  {
   "cell_type": "markdown",
   "id": "06278f38-d87f-440e-a0d9-96e5bfe2164e",
   "metadata": {},
   "source": [
    "# TYPES OF THE OBJECT IN PYTHON\n",
    "\n",
    " __1__. __WORD = STRING (CAN BE DENOTED BY \" \" & ' ')__\n",
    " \n",
    "  __2__. __NUMBER = INTEGER AND FLOAT__\n",
    "     "
   ]
  },
  {
   "cell_type": "markdown",
   "id": "2ed4383d-a27f-480d-bbce-5c1e8387d082",
   "metadata": {},
   "source": [
    " - INTERGER VALUE= -1,-2,-3,0,1,2,3\n",
    "   \n",
    " - FLOAT VALUE= 1.25,2.25\n",
    "\n",
    " - STRING= \"HELLO WORLD\""
   ]
  },
  {
   "cell_type": "markdown",
   "id": "8f0d48d3-6ee1-4153-ac79-c65cc85594d1",
   "metadata": {},
   "source": [
    " ###  You can get Python to tell you the type of an expression by using the built-in type() function. You'll notice that Python refers to integers as int, floats as float, and character strings as str."
   ]
  },
  {
   "cell_type": "code",
   "execution_count": 6,
   "id": "57eeddc9-c8f2-40e5-9648-f5ee6cd49270",
   "metadata": {},
   "outputs": [
    {
     "name": "stdout",
     "output_type": "stream",
     "text": [
      "<class 'int'>\n"
     ]
    }
   ],
   "source": [
    "A= 12\n",
    "print(type(A))"
   ]
  },
  {
   "cell_type": "code",
   "execution_count": 8,
   "id": "30a2bcb3-c94a-4569-a837-a894de9b6fbd",
   "metadata": {},
   "outputs": [
    {
     "name": "stdout",
     "output_type": "stream",
     "text": [
      "<class 'float'>\n"
     ]
    }
   ],
   "source": [
    "b=12.65\n",
    "print(type(b))"
   ]
  },
  {
   "cell_type": "code",
   "execution_count": 9,
   "id": "82f94833-f516-49dc-8072-7fc19e5d364a",
   "metadata": {},
   "outputs": [
    {
     "name": "stdout",
     "output_type": "stream",
     "text": [
      "<class 'str'>\n"
     ]
    }
   ],
   "source": [
    "c= 'my name is rahul'\n",
    "print(type(c))"
   ]
  },
  {
   "cell_type": "markdown",
   "id": "559915a6-8b65-4e1d-a599-7015733aaf23",
   "metadata": {},
   "source": [
    "# In the code cell below, use the type() function to check the object type of 12.0"
   ]
  },
  {
   "cell_type": "code",
   "execution_count": 10,
   "id": "759e012a-e303-4806-a82f-f6b56ba92de4",
   "metadata": {},
   "outputs": [
    {
     "data": {
      "text/plain": [
       "float"
      ]
     },
     "execution_count": 10,
     "metadata": {},
     "output_type": "execute_result"
    }
   ],
   "source": [
    "type(12.0)"
   ]
  },
  {
   "cell_type": "markdown",
   "id": "c3b6e7fd-a425-49fa-a192-ae1549aa7e82",
   "metadata": {},
   "source": [
    "# example of the integer"
   ]
  },
  {
   "cell_type": "code",
   "execution_count": 15,
   "id": "8de8ad3c-5cc2-435b-9f42-c59171b8ad0f",
   "metadata": {},
   "outputs": [
    {
     "data": {
      "text/plain": [
       "int"
      ]
     },
     "execution_count": 15,
     "metadata": {},
     "output_type": "execute_result"
    }
   ],
   "source": [
    "type(-1)"
   ]
  },
  {
   "cell_type": "code",
   "execution_count": 16,
   "id": "3d6ae6ab-d6ba-4903-91bb-9d607061ada6",
   "metadata": {},
   "outputs": [
    {
     "data": {
      "text/plain": [
       "int"
      ]
     },
     "execution_count": 16,
     "metadata": {},
     "output_type": "execute_result"
    }
   ],
   "source": [
    "type(4)"
   ]
  },
  {
   "cell_type": "code",
   "execution_count": 17,
   "id": "76f93909-6d20-4d3d-ab4f-d189b8114dfb",
   "metadata": {},
   "outputs": [
    {
     "data": {
      "text/plain": [
       "int"
      ]
     },
     "execution_count": 17,
     "metadata": {},
     "output_type": "execute_result"
    }
   ],
   "source": [
    "type(0)"
   ]
  },
  {
   "cell_type": "markdown",
   "id": "8774bc01-a353-497d-b9d4-2c4358e3edae",
   "metadata": {},
   "source": [
    "# example of the float"
   ]
  },
  {
   "cell_type": "markdown",
   "id": "2c663b72-9cfa-4ae0-85ad-7ba5e97dddc3",
   "metadata": {},
   "source": [
    "### Floats represent real numbers; they are a superset of integer numbers but also include \"numbers with decimals\". There are some limitations when it comes to machines representing real numbers, but floating point numbers are a good representation in most cases. You can learn more about the specifics of floats for your runtime environment, by checking the value of sys.float_info. This will also tell you what's the largest and smallest number that can be represented with them."
   ]
  },
  {
   "cell_type": "code",
   "execution_count": 19,
   "id": "326b4c6c-4706-4b15-b19f-cc5e5995350b",
   "metadata": {},
   "outputs": [
    {
     "data": {
      "text/plain": [
       "float"
      ]
     },
     "execution_count": 19,
     "metadata": {},
     "output_type": "execute_result"
    }
   ],
   "source": [
    "type(1.0)"
   ]
  },
  {
   "cell_type": "code",
   "execution_count": 20,
   "id": "5bffb28d-7373-41e3-863e-0e3a595373fe",
   "metadata": {},
   "outputs": [
    {
     "data": {
      "text/plain": [
       "float"
      ]
     },
     "execution_count": 20,
     "metadata": {},
     "output_type": "execute_result"
    }
   ],
   "source": [
    "type(0.5)"
   ]
  },
  {
   "cell_type": "code",
   "execution_count": 21,
   "id": "b52419f4-9345-401c-aab7-1ac688b4a276",
   "metadata": {},
   "outputs": [
    {
     "data": {
      "text/plain": [
       "float"
      ]
     },
     "execution_count": 21,
     "metadata": {},
     "output_type": "execute_result"
    }
   ],
   "source": [
    "type(05.6)"
   ]
  },
  {
   "cell_type": "code",
   "execution_count": 22,
   "id": "d5e88ad4-eecf-4fd4-92d2-a06679a46b72",
   "metadata": {},
   "outputs": [
    {
     "data": {
      "text/plain": [
       "sys.float_info(max=1.7976931348623157e+308, max_exp=1024, max_10_exp=308, min=2.2250738585072014e-308, min_exp=-1021, min_10_exp=-307, dig=15, mant_dig=53, epsilon=2.220446049250313e-16, radix=2, rounds=1)"
      ]
     },
     "execution_count": 22,
     "metadata": {},
     "output_type": "execute_result"
    }
   ],
   "source": [
    "import sys\n",
    "sys.float_info"
   ]
  },
  {
   "cell_type": "markdown",
   "id": "87cb1dd6-666e-4972-bd26-0590d94bae0c",
   "metadata": {},
   "source": [
    "# Converting from one object type to a different object type\n",
    "\n",
    "## You can change the type of the object in Python; __this is called typecasting__"
   ]
  },
  {
   "cell_type": "code",
   "execution_count": 24,
   "id": "09788c9f-78bd-4dd1-9c0a-c0cc0196961d",
   "metadata": {},
   "outputs": [
    {
     "name": "stdout",
     "output_type": "stream",
     "text": [
      "<class 'int'>\n"
     ]
    }
   ],
   "source": [
    "# Verify that this is an integer\n",
    "print(type(2))"
   ]
  },
  {
   "cell_type": "code",
   "execution_count": 34,
   "id": "9e73ef4b-7c35-4605-b63a-d11db6c7ffbd",
   "metadata": {},
   "outputs": [
    {
     "name": "stdout",
     "output_type": "stream",
     "text": [
      "2.0\n",
      "<class 'float'>\n"
     ]
    }
   ],
   "source": [
    " ### Converting integers to floats\n",
    "print(float(2))\n",
    "print(type(float(2)))"
   ]
  },
  {
   "cell_type": "code",
   "execution_count": 36,
   "id": "f4c100f7-dbca-4cd5-a6de-094fadf0b1b9",
   "metadata": {},
   "outputs": [
    {
     "name": "stdout",
     "output_type": "stream",
     "text": [
      "1\n",
      "<class 'int'>\n"
     ]
    }
   ],
   "source": [
    " ### Converting float to integers (we loose some information)\n",
    "print(int(1.22))\n",
    "print(type(int(1.22)))"
   ]
  },
  {
   "cell_type": "markdown",
   "id": "f234feec-2f92-4f3d-999b-4c046d0c7fae",
   "metadata": {},
   "source": [
    " # Converting from strings to integers or floats"
   ]
  },
  {
   "cell_type": "code",
   "execution_count": 37,
   "id": "625f3f90-3a08-4d1e-b260-98ab8f93a43d",
   "metadata": {},
   "outputs": [
    {
     "data": {
      "text/plain": [
       "2"
      ]
     },
     "execution_count": 37,
     "metadata": {},
     "output_type": "execute_result"
    }
   ],
   "source": [
    "int('2')"
   ]
  },
  {
   "cell_type": "code",
   "execution_count": 38,
   "id": "03fc7310-f38c-465d-8d12-efa8824b7091",
   "metadata": {},
   "outputs": [
    {
     "data": {
      "text/plain": [
       "2.23"
      ]
     },
     "execution_count": 38,
     "metadata": {},
     "output_type": "execute_result"
    }
   ],
   "source": [
    "float('2.23')"
   ]
  },
  {
   "cell_type": "markdown",
   "id": "43476f99-4c34-41b0-a445-d08b4bcf18d6",
   "metadata": {},
   "source": [
    "### Note: that strings can be represented with single quotes ('1.2') or double quotes (\"1.2\"), but you can't mix both (e.g., \"1.2')."
   ]
  },
  {
   "cell_type": "markdown",
   "id": "2f93dae7-5e44-426a-87d0-f44c597f9de7",
   "metadata": {},
   "source": [
    "# Converting numbers to strings"
   ]
  },
  {
   "cell_type": "code",
   "execution_count": 40,
   "id": "e250db3b-11af-4469-876b-573ddf4c9f28",
   "metadata": {},
   "outputs": [
    {
     "data": {
      "text/plain": [
       "'1'"
      ]
     },
     "execution_count": 40,
     "metadata": {},
     "output_type": "execute_result"
    }
   ],
   "source": [
    "# convert int to str\n",
    "str(1)"
   ]
  },
  {
   "cell_type": "code",
   "execution_count": 41,
   "id": "77231179-1267-4057-bd3c-b1d2a807cc12",
   "metadata": {},
   "outputs": [
    {
     "data": {
      "text/plain": [
       "'2.23'"
      ]
     },
     "execution_count": 41,
     "metadata": {},
     "output_type": "execute_result"
    }
   ],
   "source": [
    "# convert float to str\n",
    "str(2.23)"
   ]
  },
  {
   "cell_type": "markdown",
   "id": "e5e5d51d-7932-427b-b458-33e63d53c24a",
   "metadata": {},
   "source": [
    "# Boolean data type\n",
    "## Boolean is another important type in Python. \n",
    "### An object of type Boolean can take on one of two values: True or False\n",
    "# T & F must be in capital latter."
   ]
  },
  {
   "cell_type": "code",
   "execution_count": 42,
   "id": "c3b8b4a2-3b8d-4297-84ca-760ed34cc805",
   "metadata": {},
   "outputs": [
    {
     "data": {
      "text/plain": [
       "bool"
      ]
     },
     "execution_count": 42,
     "metadata": {},
     "output_type": "execute_result"
    }
   ],
   "source": [
    "type(True)"
   ]
  },
  {
   "cell_type": "code",
   "execution_count": 43,
   "id": "0ffbd07d-8797-4192-ae06-ece5e420e4ce",
   "metadata": {},
   "outputs": [
    {
     "data": {
      "text/plain": [
       "bool"
      ]
     },
     "execution_count": 43,
     "metadata": {},
     "output_type": "execute_result"
    }
   ],
   "source": [
    "type(False)"
   ]
  },
  {
   "cell_type": "markdown",
   "id": "96a6c809-3bd2-4064-8f45-ae068973bbf8",
   "metadata": {},
   "source": [
    " ## We can cast boolean objects to other data types.\n",
    " ### If we cast a boolean with a value of True to an integer or float we will get a one. \n",
    " ### If we cast a boolean with a value of False to an integer or float we will get a zero. \n",
    " ### If we cast a 1 to a Boolean, you get a True. \n",
    " ### If we cast a 0 to a Boolean we will get a False. "
   ]
  },
  {
   "cell_type": "code",
   "execution_count": 51,
   "id": "7a063407-3d57-402a-b8d2-b02552412508",
   "metadata": {},
   "outputs": [
    {
     "data": {
      "text/plain": [
       "1"
      ]
     },
     "execution_count": 51,
     "metadata": {},
     "output_type": "execute_result"
    }
   ],
   "source": [
    " # # Convert True to int\n",
    " int(True)"
   ]
  },
  {
   "cell_type": "code",
   "execution_count": 57,
   "id": "8fcd9797-ec8e-457d-bd9a-ce9dab6f2afb",
   "metadata": {},
   "outputs": [
    {
     "data": {
      "text/plain": [
       "0"
      ]
     },
     "execution_count": 57,
     "metadata": {},
     "output_type": "execute_result"
    }
   ],
   "source": [
    " # # Convert False to int\n",
    "int(False)"
   ]
  },
  {
   "cell_type": "code",
   "execution_count": 58,
   "id": "1450a314-4593-475c-a0c9-d0641e119e87",
   "metadata": {},
   "outputs": [
    {
     "data": {
      "text/plain": [
       "1.0"
      ]
     },
     "execution_count": 58,
     "metadata": {},
     "output_type": "execute_result"
    }
   ],
   "source": [
    " # # Convert True to float\n",
    "float(True)"
   ]
  },
  {
   "cell_type": "code",
   "execution_count": 59,
   "id": "ed17024a-39b9-46ba-95a1-55a2c4979be5",
   "metadata": {},
   "outputs": [
    {
     "data": {
      "text/plain": [
       "0.0"
      ]
     },
     "execution_count": 59,
     "metadata": {},
     "output_type": "execute_result"
    }
   ],
   "source": [
    " # # Convert False to float\n",
    "float(False)"
   ]
  },
  {
   "cell_type": "code",
   "execution_count": 46,
   "id": "f1479883-f025-4f7b-86b1-c811f5515418",
   "metadata": {},
   "outputs": [
    {
     "data": {
      "text/plain": [
       "True"
      ]
     },
     "execution_count": 46,
     "metadata": {},
     "output_type": "execute_result"
    }
   ],
   "source": [
    "bool(1)"
   ]
  },
  {
   "cell_type": "code",
   "execution_count": 47,
   "id": "602716a3-e0d8-497b-b83a-03ef13892b4e",
   "metadata": {},
   "outputs": [
    {
     "data": {
      "text/plain": [
       "False"
      ]
     },
     "execution_count": 47,
     "metadata": {},
     "output_type": "execute_result"
    }
   ],
   "source": [
    "bool(0)"
   ]
  },
  {
   "cell_type": "markdown",
   "id": "582e0711-1cd6-4ecb-b8cd-aae40ec86629",
   "metadata": {},
   "source": [
    "# Exercise"
   ]
  },
  {
   "cell_type": "markdown",
   "id": "937ca770-55a9-4e93-b2fc-27606c072422",
   "metadata": {},
   "source": [
    "## What is the data type of the result of: 6 / 2?"
   ]
  },
  {
   "cell_type": "code",
   "execution_count": 60,
   "id": "4b1ec028-57fa-4741-a1ac-4db7a42fef95",
   "metadata": {},
   "outputs": [
    {
     "data": {
      "text/plain": [
       "float"
      ]
     },
     "execution_count": 60,
     "metadata": {},
     "output_type": "execute_result"
    }
   ],
   "source": [
    "type(6/2)"
   ]
  },
  {
   "cell_type": "markdown",
   "id": "ac242d81-8b9b-4b7f-a5c8-84935a4c45d0",
   "metadata": {},
   "source": [
    "# What is the data type of the result of: 6 // 2?"
   ]
  },
  {
   "cell_type": "code",
   "execution_count": 61,
   "id": "37057be8-8028-4c0d-8d6f-f18776e343bb",
   "metadata": {},
   "outputs": [
    {
     "data": {
      "text/plain": [
       "int"
      ]
     },
     "execution_count": 61,
     "metadata": {},
     "output_type": "execute_result"
    }
   ],
   "source": [
    "type(6//2)"
   ]
  },
  {
   "cell_type": "markdown",
   "id": "098aeaf0-2783-4316-98e2-2822cb5dc8e1",
   "metadata": {},
   "source": [
    "# What is the type of the result of: \"hello\" == \"world\""
   ]
  },
  {
   "cell_type": "code",
   "execution_count": 62,
   "id": "9bc488c6-7c8a-45f5-8b84-1a2d405e22e4",
   "metadata": {},
   "outputs": [
    {
     "data": {
      "text/plain": [
       "bool"
      ]
     },
     "execution_count": 62,
     "metadata": {},
     "output_type": "execute_result"
    }
   ],
   "source": [
    "type(\"hello\" == \"world\")"
   ]
  },
  {
   "cell_type": "markdown",
   "id": "5ca2f62d-ea1c-40e8-8ea7-181477187cce",
   "metadata": {},
   "source": [
    "# Write the code to convert the following number representing employeeid \"1001\" to an integer"
   ]
  },
  {
   "cell_type": "code",
   "execution_count": 64,
   "id": "5d660603-0543-4ec3-8975-cf417716f564",
   "metadata": {},
   "outputs": [
    {
     "data": {
      "text/plain": [
       "1001"
      ]
     },
     "execution_count": 64,
     "metadata": {},
     "output_type": "execute_result"
    }
   ],
   "source": [
    "int(\"1001\")"
   ]
  },
  {
   "cell_type": "markdown",
   "id": "343edd5c-266f-4325-a8a2-00ad24d4dfe7",
   "metadata": {},
   "source": [
    "# Write the code to convert this number representing financial value \"1234.56\" to a floating point number"
   ]
  },
  {
   "cell_type": "code",
   "execution_count": 65,
   "id": "6d16de6c-559e-4250-bfb3-34cebb061c92",
   "metadata": {},
   "outputs": [
    {
     "data": {
      "text/plain": [
       "1234.56"
      ]
     },
     "execution_count": 65,
     "metadata": {},
     "output_type": "execute_result"
    }
   ],
   "source": [
    "float(\"1234.56\")"
   ]
  },
  {
   "cell_type": "markdown",
   "id": "5450f89e-62b5-43fa-8fbd-e0de77acf431",
   "metadata": {},
   "source": [
    "# Write the code to convert this phone number 123-456-7890 to a string"
   ]
  },
  {
   "cell_type": "code",
   "execution_count": 67,
   "id": "1b3d034c-d82e-4a35-abcc-d8b8ce4227ff",
   "metadata": {},
   "outputs": [
    {
     "data": {
      "text/plain": [
       "'123-456-7890'"
      ]
     },
     "execution_count": 67,
     "metadata": {},
     "output_type": "execute_result"
    }
   ],
   "source": [
    "str('123-456-7890')"
   ]
  },
  {
   "cell_type": "code",
   "execution_count": null,
   "id": "a7b88de6-e2d1-4a37-944a-2b83f4fcfaa6",
   "metadata": {},
   "outputs": [],
   "source": []
  }
 ],
 "metadata": {
  "kernelspec": {
   "display_name": "Python 3 (ipykernel)",
   "language": "python",
   "name": "python3"
  },
  "language_info": {
   "codemirror_mode": {
    "name": "ipython",
    "version": 3
   },
   "file_extension": ".py",
   "mimetype": "text/x-python",
   "name": "python",
   "nbconvert_exporter": "python",
   "pygments_lexer": "ipython3",
   "version": "3.12.4"
  }
 },
 "nbformat": 4,
 "nbformat_minor": 5
}
